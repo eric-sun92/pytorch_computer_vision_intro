{
  "nbformat": 4,
  "nbformat_minor": 0,
  "metadata": {
    "colab": {
      "provenance": [],
      "gpuType": "T4",
      "authorship_tag": "ABX9TyPHFu7lPnPUCqDBCjhUas1U",
      "include_colab_link": true
    },
    "kernelspec": {
      "name": "python3",
      "display_name": "Python 3"
    },
    "language_info": {
      "name": "python"
    },
    "widgets": {
      "application/vnd.jupyter.widget-state+json": {
        "92b1c880447a45d89091120d39a913bb": {
          "model_module": "@jupyter-widgets/controls",
          "model_name": "HBoxModel",
          "model_module_version": "1.5.0",
          "state": {
            "_dom_classes": [],
            "_model_module": "@jupyter-widgets/controls",
            "_model_module_version": "1.5.0",
            "_model_name": "HBoxModel",
            "_view_count": null,
            "_view_module": "@jupyter-widgets/controls",
            "_view_module_version": "1.5.0",
            "_view_name": "HBoxView",
            "box_style": "",
            "children": [
              "IPY_MODEL_eadd10d9a65a49e0bba1ee2a8f41d5cf",
              "IPY_MODEL_2c51592ec6f24e4ca489ff2c6e0c76d7",
              "IPY_MODEL_4bb4b6bc3ee8452a808aefc04368dbc8"
            ],
            "layout": "IPY_MODEL_1274e11a32724e77804805036519e3c8"
          }
        },
        "eadd10d9a65a49e0bba1ee2a8f41d5cf": {
          "model_module": "@jupyter-widgets/controls",
          "model_name": "HTMLModel",
          "model_module_version": "1.5.0",
          "state": {
            "_dom_classes": [],
            "_model_module": "@jupyter-widgets/controls",
            "_model_module_version": "1.5.0",
            "_model_name": "HTMLModel",
            "_view_count": null,
            "_view_module": "@jupyter-widgets/controls",
            "_view_module_version": "1.5.0",
            "_view_name": "HTMLView",
            "description": "",
            "description_tooltip": null,
            "layout": "IPY_MODEL_d809860f79904b50a1d3647fa91c9c23",
            "placeholder": "​",
            "style": "IPY_MODEL_0a5b4fb70f674017aa3c0b5e637dbd8a",
            "value": "100%"
          }
        },
        "2c51592ec6f24e4ca489ff2c6e0c76d7": {
          "model_module": "@jupyter-widgets/controls",
          "model_name": "FloatProgressModel",
          "model_module_version": "1.5.0",
          "state": {
            "_dom_classes": [],
            "_model_module": "@jupyter-widgets/controls",
            "_model_module_version": "1.5.0",
            "_model_name": "FloatProgressModel",
            "_view_count": null,
            "_view_module": "@jupyter-widgets/controls",
            "_view_module_version": "1.5.0",
            "_view_name": "ProgressView",
            "bar_style": "success",
            "description": "",
            "description_tooltip": null,
            "layout": "IPY_MODEL_3059a8713e5e46068d9e266e4e035857",
            "max": 3,
            "min": 0,
            "orientation": "horizontal",
            "style": "IPY_MODEL_e817bd440eb34509b4dd1b31949501d1",
            "value": 3
          }
        },
        "4bb4b6bc3ee8452a808aefc04368dbc8": {
          "model_module": "@jupyter-widgets/controls",
          "model_name": "HTMLModel",
          "model_module_version": "1.5.0",
          "state": {
            "_dom_classes": [],
            "_model_module": "@jupyter-widgets/controls",
            "_model_module_version": "1.5.0",
            "_model_name": "HTMLModel",
            "_view_count": null,
            "_view_module": "@jupyter-widgets/controls",
            "_view_module_version": "1.5.0",
            "_view_name": "HTMLView",
            "description": "",
            "description_tooltip": null,
            "layout": "IPY_MODEL_67351bfa821d48a99ebde9c09709abd0",
            "placeholder": "​",
            "style": "IPY_MODEL_f53dec1aa75148ba882bf63f5ba7f589",
            "value": " 3/3 [00:42&lt;00:00, 14.13s/it]"
          }
        },
        "1274e11a32724e77804805036519e3c8": {
          "model_module": "@jupyter-widgets/base",
          "model_name": "LayoutModel",
          "model_module_version": "1.2.0",
          "state": {
            "_model_module": "@jupyter-widgets/base",
            "_model_module_version": "1.2.0",
            "_model_name": "LayoutModel",
            "_view_count": null,
            "_view_module": "@jupyter-widgets/base",
            "_view_module_version": "1.2.0",
            "_view_name": "LayoutView",
            "align_content": null,
            "align_items": null,
            "align_self": null,
            "border": null,
            "bottom": null,
            "display": null,
            "flex": null,
            "flex_flow": null,
            "grid_area": null,
            "grid_auto_columns": null,
            "grid_auto_flow": null,
            "grid_auto_rows": null,
            "grid_column": null,
            "grid_gap": null,
            "grid_row": null,
            "grid_template_areas": null,
            "grid_template_columns": null,
            "grid_template_rows": null,
            "height": null,
            "justify_content": null,
            "justify_items": null,
            "left": null,
            "margin": null,
            "max_height": null,
            "max_width": null,
            "min_height": null,
            "min_width": null,
            "object_fit": null,
            "object_position": null,
            "order": null,
            "overflow": null,
            "overflow_x": null,
            "overflow_y": null,
            "padding": null,
            "right": null,
            "top": null,
            "visibility": null,
            "width": null
          }
        },
        "d809860f79904b50a1d3647fa91c9c23": {
          "model_module": "@jupyter-widgets/base",
          "model_name": "LayoutModel",
          "model_module_version": "1.2.0",
          "state": {
            "_model_module": "@jupyter-widgets/base",
            "_model_module_version": "1.2.0",
            "_model_name": "LayoutModel",
            "_view_count": null,
            "_view_module": "@jupyter-widgets/base",
            "_view_module_version": "1.2.0",
            "_view_name": "LayoutView",
            "align_content": null,
            "align_items": null,
            "align_self": null,
            "border": null,
            "bottom": null,
            "display": null,
            "flex": null,
            "flex_flow": null,
            "grid_area": null,
            "grid_auto_columns": null,
            "grid_auto_flow": null,
            "grid_auto_rows": null,
            "grid_column": null,
            "grid_gap": null,
            "grid_row": null,
            "grid_template_areas": null,
            "grid_template_columns": null,
            "grid_template_rows": null,
            "height": null,
            "justify_content": null,
            "justify_items": null,
            "left": null,
            "margin": null,
            "max_height": null,
            "max_width": null,
            "min_height": null,
            "min_width": null,
            "object_fit": null,
            "object_position": null,
            "order": null,
            "overflow": null,
            "overflow_x": null,
            "overflow_y": null,
            "padding": null,
            "right": null,
            "top": null,
            "visibility": null,
            "width": null
          }
        },
        "0a5b4fb70f674017aa3c0b5e637dbd8a": {
          "model_module": "@jupyter-widgets/controls",
          "model_name": "DescriptionStyleModel",
          "model_module_version": "1.5.0",
          "state": {
            "_model_module": "@jupyter-widgets/controls",
            "_model_module_version": "1.5.0",
            "_model_name": "DescriptionStyleModel",
            "_view_count": null,
            "_view_module": "@jupyter-widgets/base",
            "_view_module_version": "1.2.0",
            "_view_name": "StyleView",
            "description_width": ""
          }
        },
        "3059a8713e5e46068d9e266e4e035857": {
          "model_module": "@jupyter-widgets/base",
          "model_name": "LayoutModel",
          "model_module_version": "1.2.0",
          "state": {
            "_model_module": "@jupyter-widgets/base",
            "_model_module_version": "1.2.0",
            "_model_name": "LayoutModel",
            "_view_count": null,
            "_view_module": "@jupyter-widgets/base",
            "_view_module_version": "1.2.0",
            "_view_name": "LayoutView",
            "align_content": null,
            "align_items": null,
            "align_self": null,
            "border": null,
            "bottom": null,
            "display": null,
            "flex": null,
            "flex_flow": null,
            "grid_area": null,
            "grid_auto_columns": null,
            "grid_auto_flow": null,
            "grid_auto_rows": null,
            "grid_column": null,
            "grid_gap": null,
            "grid_row": null,
            "grid_template_areas": null,
            "grid_template_columns": null,
            "grid_template_rows": null,
            "height": null,
            "justify_content": null,
            "justify_items": null,
            "left": null,
            "margin": null,
            "max_height": null,
            "max_width": null,
            "min_height": null,
            "min_width": null,
            "object_fit": null,
            "object_position": null,
            "order": null,
            "overflow": null,
            "overflow_x": null,
            "overflow_y": null,
            "padding": null,
            "right": null,
            "top": null,
            "visibility": null,
            "width": null
          }
        },
        "e817bd440eb34509b4dd1b31949501d1": {
          "model_module": "@jupyter-widgets/controls",
          "model_name": "ProgressStyleModel",
          "model_module_version": "1.5.0",
          "state": {
            "_model_module": "@jupyter-widgets/controls",
            "_model_module_version": "1.5.0",
            "_model_name": "ProgressStyleModel",
            "_view_count": null,
            "_view_module": "@jupyter-widgets/base",
            "_view_module_version": "1.2.0",
            "_view_name": "StyleView",
            "bar_color": null,
            "description_width": ""
          }
        },
        "67351bfa821d48a99ebde9c09709abd0": {
          "model_module": "@jupyter-widgets/base",
          "model_name": "LayoutModel",
          "model_module_version": "1.2.0",
          "state": {
            "_model_module": "@jupyter-widgets/base",
            "_model_module_version": "1.2.0",
            "_model_name": "LayoutModel",
            "_view_count": null,
            "_view_module": "@jupyter-widgets/base",
            "_view_module_version": "1.2.0",
            "_view_name": "LayoutView",
            "align_content": null,
            "align_items": null,
            "align_self": null,
            "border": null,
            "bottom": null,
            "display": null,
            "flex": null,
            "flex_flow": null,
            "grid_area": null,
            "grid_auto_columns": null,
            "grid_auto_flow": null,
            "grid_auto_rows": null,
            "grid_column": null,
            "grid_gap": null,
            "grid_row": null,
            "grid_template_areas": null,
            "grid_template_columns": null,
            "grid_template_rows": null,
            "height": null,
            "justify_content": null,
            "justify_items": null,
            "left": null,
            "margin": null,
            "max_height": null,
            "max_width": null,
            "min_height": null,
            "min_width": null,
            "object_fit": null,
            "object_position": null,
            "order": null,
            "overflow": null,
            "overflow_x": null,
            "overflow_y": null,
            "padding": null,
            "right": null,
            "top": null,
            "visibility": null,
            "width": null
          }
        },
        "f53dec1aa75148ba882bf63f5ba7f589": {
          "model_module": "@jupyter-widgets/controls",
          "model_name": "DescriptionStyleModel",
          "model_module_version": "1.5.0",
          "state": {
            "_model_module": "@jupyter-widgets/controls",
            "_model_module_version": "1.5.0",
            "_model_name": "DescriptionStyleModel",
            "_view_count": null,
            "_view_module": "@jupyter-widgets/base",
            "_view_module_version": "1.2.0",
            "_view_name": "StyleView",
            "description_width": ""
          }
        },
        "ad8f1b69aaf54fa7b0919a0f43751d68": {
          "model_module": "@jupyter-widgets/controls",
          "model_name": "HBoxModel",
          "model_module_version": "1.5.0",
          "state": {
            "_dom_classes": [],
            "_model_module": "@jupyter-widgets/controls",
            "_model_module_version": "1.5.0",
            "_model_name": "HBoxModel",
            "_view_count": null,
            "_view_module": "@jupyter-widgets/controls",
            "_view_module_version": "1.5.0",
            "_view_name": "HBoxView",
            "box_style": "",
            "children": [
              "IPY_MODEL_4c2cf9eeee264d4289238f7898b233df",
              "IPY_MODEL_a6f28fb8a9d84186ab09d16a7c29811b",
              "IPY_MODEL_710a93bc75074ce6ba176fece18f7ed4"
            ],
            "layout": "IPY_MODEL_4060753f98ad496ba71df3c7631e0b45"
          }
        },
        "4c2cf9eeee264d4289238f7898b233df": {
          "model_module": "@jupyter-widgets/controls",
          "model_name": "HTMLModel",
          "model_module_version": "1.5.0",
          "state": {
            "_dom_classes": [],
            "_model_module": "@jupyter-widgets/controls",
            "_model_module_version": "1.5.0",
            "_model_name": "HTMLModel",
            "_view_count": null,
            "_view_module": "@jupyter-widgets/controls",
            "_view_module_version": "1.5.0",
            "_view_name": "HTMLView",
            "description": "",
            "description_tooltip": null,
            "layout": "IPY_MODEL_7db7a6c0865842f0881445ecbda94113",
            "placeholder": "​",
            "style": "IPY_MODEL_8387b8c64c154373a93eb8590f3a9c71",
            "value": "100%"
          }
        },
        "a6f28fb8a9d84186ab09d16a7c29811b": {
          "model_module": "@jupyter-widgets/controls",
          "model_name": "FloatProgressModel",
          "model_module_version": "1.5.0",
          "state": {
            "_dom_classes": [],
            "_model_module": "@jupyter-widgets/controls",
            "_model_module_version": "1.5.0",
            "_model_name": "FloatProgressModel",
            "_view_count": null,
            "_view_module": "@jupyter-widgets/controls",
            "_view_module_version": "1.5.0",
            "_view_name": "ProgressView",
            "bar_style": "success",
            "description": "",
            "description_tooltip": null,
            "layout": "IPY_MODEL_c8d14b1b1fd34613ada5d0fa421afdad",
            "max": 3,
            "min": 0,
            "orientation": "horizontal",
            "style": "IPY_MODEL_f8ad3d0d902440c8bcf5ba1b17325538",
            "value": 3
          }
        },
        "710a93bc75074ce6ba176fece18f7ed4": {
          "model_module": "@jupyter-widgets/controls",
          "model_name": "HTMLModel",
          "model_module_version": "1.5.0",
          "state": {
            "_dom_classes": [],
            "_model_module": "@jupyter-widgets/controls",
            "_model_module_version": "1.5.0",
            "_model_name": "HTMLModel",
            "_view_count": null,
            "_view_module": "@jupyter-widgets/controls",
            "_view_module_version": "1.5.0",
            "_view_name": "HTMLView",
            "description": "",
            "description_tooltip": null,
            "layout": "IPY_MODEL_3fbc76a6522f4f05836a3e7f2146999d",
            "placeholder": "​",
            "style": "IPY_MODEL_4cccab97126d484bac1a3072869e4e95",
            "value": " 3/3 [00:44&lt;00:00, 14.64s/it]"
          }
        },
        "4060753f98ad496ba71df3c7631e0b45": {
          "model_module": "@jupyter-widgets/base",
          "model_name": "LayoutModel",
          "model_module_version": "1.2.0",
          "state": {
            "_model_module": "@jupyter-widgets/base",
            "_model_module_version": "1.2.0",
            "_model_name": "LayoutModel",
            "_view_count": null,
            "_view_module": "@jupyter-widgets/base",
            "_view_module_version": "1.2.0",
            "_view_name": "LayoutView",
            "align_content": null,
            "align_items": null,
            "align_self": null,
            "border": null,
            "bottom": null,
            "display": null,
            "flex": null,
            "flex_flow": null,
            "grid_area": null,
            "grid_auto_columns": null,
            "grid_auto_flow": null,
            "grid_auto_rows": null,
            "grid_column": null,
            "grid_gap": null,
            "grid_row": null,
            "grid_template_areas": null,
            "grid_template_columns": null,
            "grid_template_rows": null,
            "height": null,
            "justify_content": null,
            "justify_items": null,
            "left": null,
            "margin": null,
            "max_height": null,
            "max_width": null,
            "min_height": null,
            "min_width": null,
            "object_fit": null,
            "object_position": null,
            "order": null,
            "overflow": null,
            "overflow_x": null,
            "overflow_y": null,
            "padding": null,
            "right": null,
            "top": null,
            "visibility": null,
            "width": null
          }
        },
        "7db7a6c0865842f0881445ecbda94113": {
          "model_module": "@jupyter-widgets/base",
          "model_name": "LayoutModel",
          "model_module_version": "1.2.0",
          "state": {
            "_model_module": "@jupyter-widgets/base",
            "_model_module_version": "1.2.0",
            "_model_name": "LayoutModel",
            "_view_count": null,
            "_view_module": "@jupyter-widgets/base",
            "_view_module_version": "1.2.0",
            "_view_name": "LayoutView",
            "align_content": null,
            "align_items": null,
            "align_self": null,
            "border": null,
            "bottom": null,
            "display": null,
            "flex": null,
            "flex_flow": null,
            "grid_area": null,
            "grid_auto_columns": null,
            "grid_auto_flow": null,
            "grid_auto_rows": null,
            "grid_column": null,
            "grid_gap": null,
            "grid_row": null,
            "grid_template_areas": null,
            "grid_template_columns": null,
            "grid_template_rows": null,
            "height": null,
            "justify_content": null,
            "justify_items": null,
            "left": null,
            "margin": null,
            "max_height": null,
            "max_width": null,
            "min_height": null,
            "min_width": null,
            "object_fit": null,
            "object_position": null,
            "order": null,
            "overflow": null,
            "overflow_x": null,
            "overflow_y": null,
            "padding": null,
            "right": null,
            "top": null,
            "visibility": null,
            "width": null
          }
        },
        "8387b8c64c154373a93eb8590f3a9c71": {
          "model_module": "@jupyter-widgets/controls",
          "model_name": "DescriptionStyleModel",
          "model_module_version": "1.5.0",
          "state": {
            "_model_module": "@jupyter-widgets/controls",
            "_model_module_version": "1.5.0",
            "_model_name": "DescriptionStyleModel",
            "_view_count": null,
            "_view_module": "@jupyter-widgets/base",
            "_view_module_version": "1.2.0",
            "_view_name": "StyleView",
            "description_width": ""
          }
        },
        "c8d14b1b1fd34613ada5d0fa421afdad": {
          "model_module": "@jupyter-widgets/base",
          "model_name": "LayoutModel",
          "model_module_version": "1.2.0",
          "state": {
            "_model_module": "@jupyter-widgets/base",
            "_model_module_version": "1.2.0",
            "_model_name": "LayoutModel",
            "_view_count": null,
            "_view_module": "@jupyter-widgets/base",
            "_view_module_version": "1.2.0",
            "_view_name": "LayoutView",
            "align_content": null,
            "align_items": null,
            "align_self": null,
            "border": null,
            "bottom": null,
            "display": null,
            "flex": null,
            "flex_flow": null,
            "grid_area": null,
            "grid_auto_columns": null,
            "grid_auto_flow": null,
            "grid_auto_rows": null,
            "grid_column": null,
            "grid_gap": null,
            "grid_row": null,
            "grid_template_areas": null,
            "grid_template_columns": null,
            "grid_template_rows": null,
            "height": null,
            "justify_content": null,
            "justify_items": null,
            "left": null,
            "margin": null,
            "max_height": null,
            "max_width": null,
            "min_height": null,
            "min_width": null,
            "object_fit": null,
            "object_position": null,
            "order": null,
            "overflow": null,
            "overflow_x": null,
            "overflow_y": null,
            "padding": null,
            "right": null,
            "top": null,
            "visibility": null,
            "width": null
          }
        },
        "f8ad3d0d902440c8bcf5ba1b17325538": {
          "model_module": "@jupyter-widgets/controls",
          "model_name": "ProgressStyleModel",
          "model_module_version": "1.5.0",
          "state": {
            "_model_module": "@jupyter-widgets/controls",
            "_model_module_version": "1.5.0",
            "_model_name": "ProgressStyleModel",
            "_view_count": null,
            "_view_module": "@jupyter-widgets/base",
            "_view_module_version": "1.2.0",
            "_view_name": "StyleView",
            "bar_color": null,
            "description_width": ""
          }
        },
        "3fbc76a6522f4f05836a3e7f2146999d": {
          "model_module": "@jupyter-widgets/base",
          "model_name": "LayoutModel",
          "model_module_version": "1.2.0",
          "state": {
            "_model_module": "@jupyter-widgets/base",
            "_model_module_version": "1.2.0",
            "_model_name": "LayoutModel",
            "_view_count": null,
            "_view_module": "@jupyter-widgets/base",
            "_view_module_version": "1.2.0",
            "_view_name": "LayoutView",
            "align_content": null,
            "align_items": null,
            "align_self": null,
            "border": null,
            "bottom": null,
            "display": null,
            "flex": null,
            "flex_flow": null,
            "grid_area": null,
            "grid_auto_columns": null,
            "grid_auto_flow": null,
            "grid_auto_rows": null,
            "grid_column": null,
            "grid_gap": null,
            "grid_row": null,
            "grid_template_areas": null,
            "grid_template_columns": null,
            "grid_template_rows": null,
            "height": null,
            "justify_content": null,
            "justify_items": null,
            "left": null,
            "margin": null,
            "max_height": null,
            "max_width": null,
            "min_height": null,
            "min_width": null,
            "object_fit": null,
            "object_position": null,
            "order": null,
            "overflow": null,
            "overflow_x": null,
            "overflow_y": null,
            "padding": null,
            "right": null,
            "top": null,
            "visibility": null,
            "width": null
          }
        },
        "4cccab97126d484bac1a3072869e4e95": {
          "model_module": "@jupyter-widgets/controls",
          "model_name": "DescriptionStyleModel",
          "model_module_version": "1.5.0",
          "state": {
            "_model_module": "@jupyter-widgets/controls",
            "_model_module_version": "1.5.0",
            "_model_name": "DescriptionStyleModel",
            "_view_count": null,
            "_view_module": "@jupyter-widgets/base",
            "_view_module_version": "1.2.0",
            "_view_name": "StyleView",
            "description_width": ""
          }
        }
      }
    }
  },
  "cells": [
    {
      "cell_type": "markdown",
      "metadata": {
        "id": "view-in-github",
        "colab_type": "text"
      },
      "source": [
        "<a href=\"https://colab.research.google.com/github/eric-sun92/pytorch_computer_vision_intro/blob/main/03_pytorch_computer_vision.ipynb\" target=\"_parent\"><img src=\"https://colab.research.google.com/assets/colab-badge.svg\" alt=\"Open In Colab\"/></a>"
      ]
    },
    {
      "cell_type": "markdown",
      "source": [
        "**COMPUTER VISION**\n",
        "\n",
        "torchvision - base domain library for Pytorch computer vision \n",
        "\n",
        "torchvision.datasets - get datasets/data loading functions for computer vision\n",
        "\n",
        "torchvision.models - get pretrained models for computer vision\n",
        "\n",
        "torchvision.transforms - functions to help transform input image data to ml acceptable forms\n",
        "\n",
        "torch.utils.data.Dataset - Base library for Pytorch data sets \n",
        "\n",
        "torch.utils.data.DataLoader - creates a python iterable over a dataset\n"
      ],
      "metadata": {
        "id": "WcdWYpCSAOi0"
      }
    },
    {
      "cell_type": "code",
      "source": [
        "import torch\n",
        "from torch import nn\n",
        "\n",
        "import torchvision\n",
        "from torchvision import datasets\n",
        "from torchvision import transforms\n",
        "from torchvision.transforms import ToTensor\n",
        "\n",
        "import matplotlib.pyplot as plt\n",
        "\n",
        "print(torch.__version__, torchvision.__version__)\n",
        "\n",
        "# notes \n",
        "# first: import data, usign torchvision.datasets\n",
        "  # train_data = datasets.Fashion(root, train, download, transform, target_transform)\n",
        "  # .classes -> gives list of classes, .class_to_idx -> puts classes into dict\n",
        "  # .targets -> gives list of targets (labels) * basically the which class the object goes into\n",
        "  # can also get features, labels = train_data (not batched)\n",
        "# second: turn data into batched data using torch.utils.data.DataLoader\n",
        "# third: features, labels = next(iter(train_dataloader))\n",
        "# fourth: enumerate(train_dataloader) -> batch_idx, (features, labels)"
      ],
      "metadata": {
        "colab": {
          "base_uri": "https://localhost:8080/"
        },
        "id": "iSI5QreECHQW",
        "outputId": "ef9af3a9-67fd-4758-fcfa-bf3010daac9c"
      },
      "execution_count": 2,
      "outputs": [
        {
          "output_type": "stream",
          "name": "stdout",
          "text": [
            "2.0.1+cu118 0.15.2+cu118\n"
          ]
        }
      ]
    },
    {
      "cell_type": "code",
      "source": [
        "train_data = datasets.FashionMNIST(\n",
        "    root=\"data\",\n",
        "    train=True,\n",
        "    download=True,\n",
        "    transform=torchvision.transforms.ToTensor(),\n",
        "    target_transform=None\n",
        ")\n",
        "\n",
        "test_data = datasets.FashionMNIST(\n",
        "    root=\"data\",\n",
        "    train=False,\n",
        "    download=True,\n",
        "    transform=torchvision.transforms.ToTensor(),\n",
        "    target_transform=None\n",
        ")"
      ],
      "metadata": {
        "colab": {
          "base_uri": "https://localhost:8080/"
        },
        "id": "RI9IHYI1Des0",
        "outputId": "7daa1156-88a3-456e-b48b-1d2135edd2b8"
      },
      "execution_count": 3,
      "outputs": [
        {
          "output_type": "stream",
          "name": "stdout",
          "text": [
            "Downloading http://fashion-mnist.s3-website.eu-central-1.amazonaws.com/train-images-idx3-ubyte.gz\n",
            "Downloading http://fashion-mnist.s3-website.eu-central-1.amazonaws.com/train-images-idx3-ubyte.gz to data/FashionMNIST/raw/train-images-idx3-ubyte.gz\n"
          ]
        },
        {
          "output_type": "stream",
          "name": "stderr",
          "text": [
            "100%|██████████| 26421880/26421880 [00:01<00:00, 16323256.65it/s]\n"
          ]
        },
        {
          "output_type": "stream",
          "name": "stdout",
          "text": [
            "Extracting data/FashionMNIST/raw/train-images-idx3-ubyte.gz to data/FashionMNIST/raw\n",
            "\n",
            "Downloading http://fashion-mnist.s3-website.eu-central-1.amazonaws.com/train-labels-idx1-ubyte.gz\n",
            "Downloading http://fashion-mnist.s3-website.eu-central-1.amazonaws.com/train-labels-idx1-ubyte.gz to data/FashionMNIST/raw/train-labels-idx1-ubyte.gz\n"
          ]
        },
        {
          "output_type": "stream",
          "name": "stderr",
          "text": [
            "100%|██████████| 29515/29515 [00:00<00:00, 304044.06it/s]\n"
          ]
        },
        {
          "output_type": "stream",
          "name": "stdout",
          "text": [
            "Extracting data/FashionMNIST/raw/train-labels-idx1-ubyte.gz to data/FashionMNIST/raw\n",
            "\n",
            "Downloading http://fashion-mnist.s3-website.eu-central-1.amazonaws.com/t10k-images-idx3-ubyte.gz\n",
            "Downloading http://fashion-mnist.s3-website.eu-central-1.amazonaws.com/t10k-images-idx3-ubyte.gz to data/FashionMNIST/raw/t10k-images-idx3-ubyte.gz\n"
          ]
        },
        {
          "output_type": "stream",
          "name": "stderr",
          "text": [
            "100%|██████████| 4422102/4422102 [00:00<00:00, 5511730.52it/s]\n"
          ]
        },
        {
          "output_type": "stream",
          "name": "stdout",
          "text": [
            "Extracting data/FashionMNIST/raw/t10k-images-idx3-ubyte.gz to data/FashionMNIST/raw\n",
            "\n",
            "Downloading http://fashion-mnist.s3-website.eu-central-1.amazonaws.com/t10k-labels-idx1-ubyte.gz\n",
            "Downloading http://fashion-mnist.s3-website.eu-central-1.amazonaws.com/t10k-labels-idx1-ubyte.gz to data/FashionMNIST/raw/t10k-labels-idx1-ubyte.gz\n"
          ]
        },
        {
          "output_type": "stream",
          "name": "stderr",
          "text": [
            "100%|██████████| 5148/5148 [00:00<00:00, 13867872.18it/s]\n"
          ]
        },
        {
          "output_type": "stream",
          "name": "stdout",
          "text": [
            "Extracting data/FashionMNIST/raw/t10k-labels-idx1-ubyte.gz to data/FashionMNIST/raw\n",
            "\n"
          ]
        }
      ]
    },
    {
      "cell_type": "code",
      "source": [
        "class_names = train_data.classes\n",
        "class_names"
      ],
      "metadata": {
        "colab": {
          "base_uri": "https://localhost:8080/"
        },
        "id": "iK0IxollOZc8",
        "outputId": "b11150cc-1482-4a0d-d281-0e6467f5d014"
      },
      "execution_count": 4,
      "outputs": [
        {
          "output_type": "execute_result",
          "data": {
            "text/plain": [
              "['T-shirt/top',\n",
              " 'Trouser',\n",
              " 'Pullover',\n",
              " 'Dress',\n",
              " 'Coat',\n",
              " 'Sandal',\n",
              " 'Shirt',\n",
              " 'Sneaker',\n",
              " 'Bag',\n",
              " 'Ankle boot']"
            ]
          },
          "metadata": {},
          "execution_count": 4
        }
      ]
    },
    {
      "cell_type": "code",
      "source": [
        "train_data.class_to_idx"
      ],
      "metadata": {
        "colab": {
          "base_uri": "https://localhost:8080/"
        },
        "id": "Mh1QleG7Oxry",
        "outputId": "88d2dbfb-03a2-400f-bd70-0da62f2a7cd7"
      },
      "execution_count": 5,
      "outputs": [
        {
          "output_type": "execute_result",
          "data": {
            "text/plain": [
              "{'T-shirt/top': 0,\n",
              " 'Trouser': 1,\n",
              " 'Pullover': 2,\n",
              " 'Dress': 3,\n",
              " 'Coat': 4,\n",
              " 'Sandal': 5,\n",
              " 'Shirt': 6,\n",
              " 'Sneaker': 7,\n",
              " 'Bag': 8,\n",
              " 'Ankle boot': 9}"
            ]
          },
          "metadata": {},
          "execution_count": 5
        }
      ]
    },
    {
      "cell_type": "code",
      "source": [
        "train_data.targets"
      ],
      "metadata": {
        "colab": {
          "base_uri": "https://localhost:8080/"
        },
        "id": "9FlTmee0RVSX",
        "outputId": "b6435de9-f213-4684-864c-604233ea7024"
      },
      "execution_count": 6,
      "outputs": [
        {
          "output_type": "execute_result",
          "data": {
            "text/plain": [
              "tensor([9, 0, 0,  ..., 3, 0, 5])"
            ]
          },
          "metadata": {},
          "execution_count": 6
        }
      ]
    },
    {
      "cell_type": "code",
      "source": [
        "image, label = train_data[0]"
      ],
      "metadata": {
        "id": "J1e8RR9gRXwW"
      },
      "execution_count": 7,
      "outputs": []
    },
    {
      "cell_type": "code",
      "source": [
        "image.shape, label"
      ],
      "metadata": {
        "colab": {
          "base_uri": "https://localhost:8080/"
        },
        "id": "OpFsTTa0RfKT",
        "outputId": "65673488-4972-4b4c-cac4-25d83a0aad77"
      },
      "execution_count": 8,
      "outputs": [
        {
          "output_type": "execute_result",
          "data": {
            "text/plain": [
              "(torch.Size([1, 28, 28]), 9)"
            ]
          },
          "metadata": {},
          "execution_count": 8
        }
      ]
    },
    {
      "cell_type": "code",
      "source": [
        "plt.imshow(image.squeeze(), cmap=\"gray\")\n",
        "plt.title(class_names[label])\n",
        "plt.axis(False)"
      ],
      "metadata": {
        "colab": {
          "base_uri": "https://localhost:8080/",
          "height": 446
        },
        "id": "fpeM4KDQRo9W",
        "outputId": "f3ad7d2d-b782-4047-e16a-7c7d0f648210"
      },
      "execution_count": 9,
      "outputs": [
        {
          "output_type": "execute_result",
          "data": {
            "text/plain": [
              "(-0.5, 27.5, 27.5, -0.5)"
            ]
          },
          "metadata": {},
          "execution_count": 9
        },
        {
          "output_type": "display_data",
          "data": {
            "text/plain": [
              "<Figure size 640x480 with 1 Axes>"
            ],
            "image/png": "[encoded data removed]"
          },
          "metadata": {}
        }
      ]
    },
    {
      "cell_type": "code",
      "source": [
        "torch.manual_seed(42)\n",
        "fig = plt.figure(figsize=(9, 9))\n",
        "rows, cols = 4, 4\n",
        "for i in range(1, rows * cols + 1):\n",
        "  random_idx = torch.randint(0, len(train_data), size=[1]).item()\n",
        "  img, label = train_data[random_idx]\n",
        "  fig.add_subplot(rows, cols, i)\n",
        "  plt.imshow(img.squeeze(), cmap=\"gray\")\n",
        "  plt.title(class_names[label])\n",
        "  plt.axis(False)\n"
      ],
      "metadata": {
        "id": "n4MkRWUvUKep",
        "colab": {
          "base_uri": "https://localhost:8080/",
          "height": 752
        },
        "outputId": "1a432d21-307d-46ea-f3f4-a5bb45672a2a"
      },
      "execution_count": 10,
      "outputs": [
        {
          "output_type": "display_data",
          "data": {
            "text/plain": [
              "<Figure size 900x900 with 16 Axes>"
            ],
            "image/png": "[encoded data removed]"
          },
          "metadata": {}
        }
      ]
    },
    {
      "cell_type": "code",
      "source": [
        "from torch.utils.data import DataLoader\n",
        "\n",
        "BATCH_SIZE=32\n",
        "\n",
        "# turn train_data and test_data into batches\n",
        "\n",
        "train_dataloader = DataLoader(dataset=train_data, \n",
        "                              batch_size=BATCH_SIZE,\n",
        "                              shuffle=True)\n",
        "\n",
        "test_dataloader = DataLoader(dataset=test_data,\n",
        "                             batch_size=BATCH_SIZE,\n",
        "                             shuffle=False)"
      ],
      "metadata": {
        "id": "Hh2TDP1IYVCt"
      },
      "execution_count": 11,
      "outputs": []
    },
    {
      "cell_type": "code",
      "source": [
        "len(train_dataloader), len(test_dataloader)"
      ],
      "metadata": {
        "id": "8EKn0Pz64Uoj",
        "colab": {
          "base_uri": "https://localhost:8080/"
        },
        "outputId": "7a30293d-52a2-4e91-eece-55733bb0fb16"
      },
      "execution_count": 12,
      "outputs": [
        {
          "output_type": "execute_result",
          "data": {
            "text/plain": [
              "(1875, 313)"
            ]
          },
          "metadata": {},
          "execution_count": 12
        }
      ]
    },
    {
      "cell_type": "code",
      "source": [
        "# what is inside data loader\n",
        "train_features_batch, train_labels_batch = next(iter(train_dataloader))\n",
        "train_features_batch.shape, train_labels_batch.shape"
      ],
      "metadata": {
        "colab": {
          "base_uri": "https://localhost:8080/"
        },
        "id": "8isYDhh3HVPD",
        "outputId": "217189b7-b6ca-4e0f-afd2-309e0f827130"
      },
      "execution_count": 13,
      "outputs": [
        {
          "output_type": "execute_result",
          "data": {
            "text/plain": [
              "(torch.Size([32, 1, 28, 28]), torch.Size([32]))"
            ]
          },
          "metadata": {},
          "execution_count": 13
        }
      ]
    },
    {
      "cell_type": "code",
      "source": [
        "rand_idx = torch.randint(0, len(train_features_batch), size=[1]).item()\n",
        "img, label = train_features_batch[rand_idx], train_labels_batch[rand_idx]\n",
        "plt.imshow(img.squeeze(), cmap=\"gray\")\n",
        "plt.title(class_names[label])\n",
        "plt.axis(False)\n",
        "print(img)"
      ],
      "metadata": {
        "colab": {
          "base_uri": "https://localhost:8080/",
          "height": 1000
        },
        "id": "GZindwMiHYTU",
        "outputId": "2dd10cbb-2813-4ac1-ef98-8533acd72ae4"
      },
      "execution_count": 14,
      "outputs": [
        {
          "output_type": "stream",
          "name": "stdout",
          "text": [
            "tensor([[[0.0000, 0.0000, 0.0000, 0.0000, 0.0000, 0.0000, 0.0000, 0.0000,\n",
            "          0.0000, 0.0000, 0.0000, 0.0078, 0.0000, 0.0784, 0.4431, 0.4588,\n",
            "          0.0039, 0.0000, 0.0078, 0.0000, 0.0000, 0.0000, 0.0000, 0.0000,\n",
            "          0.0000, 0.0000, 0.0000, 0.0000],\n",
            "         [0.0000, 0.0000, 0.0000, 0.0000, 0.0000, 0.0000, 0.0000, 0.0000,\n",
            "          0.0000, 0.0000, 0.0196, 0.0000, 0.2784, 0.7725, 0.3529, 0.4118,\n",
            "          0.6471, 0.1765, 0.0000, 0.0157, 0.0000, 0.0000, 0.0000, 0.0000,\n",
            "          0.0000, 0.0000, 0.0000, 0.0000],\n",
            "         [0.0000, 0.0000, 0.0000, 0.0000, 0.0000, 0.0000, 0.0000, 0.0000,\n",
            "          0.0000, 0.0196, 0.0000, 0.2627, 0.6392, 0.0000, 0.0000, 0.0000,\n",
            "          0.1294, 0.5608, 0.0000, 0.0000, 0.0039, 0.0000, 0.0000, 0.0000,\n",
            "          0.0000, 0.0000, 0.0000, 0.0000],\n",
            "         [0.0000, 0.0000, 0.0000, 0.0000, 0.0000, 0.0000, 0.0000, 0.0000,\n",
            "          0.0039, 0.0000, 0.0510, 0.6157, 0.0000, 0.0000, 0.0314, 0.0431,\n",
            "          0.0000, 0.4549, 0.3451, 0.0000, 0.0196, 0.0000, 0.0000, 0.0000,\n",
            "          0.0000, 0.0000, 0.0000, 0.0000],\n",
            "         [0.0000, 0.0000, 0.0000, 0.0000, 0.0000, 0.0000, 0.0000, 0.0000,\n",
            "          0.0118, 0.0000, 0.5373, 0.4157, 0.0000, 0.0314, 0.0000, 0.0392,\n",
            "          0.0000, 0.3608, 0.5529, 0.0000, 0.0000, 0.0039, 0.0000, 0.0000,\n",
            "          0.0000, 0.0000, 0.0000, 0.0000],\n",
            "         [0.0000, 0.0000, 0.0000, 0.0000, 0.0000, 0.0000, 0.0000, 0.0118,\n",
            "          0.0000, 0.0157, 0.7333, 0.1216, 0.0000, 0.0196, 0.0000, 0.0235,\n",
            "          0.0000, 0.1059, 0.6549, 0.0824, 0.0000, 0.0118, 0.0039, 0.0000,\n",
            "          0.0000, 0.0000, 0.0000, 0.0000],\n",
            "         [0.0000, 0.0000, 0.0000, 0.0039, 0.0039, 0.0000, 0.0078, 0.0196,\n",
            "          0.0000, 0.1451, 0.7686, 0.0431, 0.0000, 0.0235, 0.0000, 0.0157,\n",
            "          0.0000, 0.0235, 0.7412, 0.4471, 0.0000, 0.0078, 0.0118, 0.0118,\n",
            "          0.0078, 0.0118, 0.0078, 0.0000],\n",
            "         [0.0000, 0.0000, 0.0000, 0.0000, 0.0078, 0.0000, 0.0000, 0.0000,\n",
            "          0.0000, 0.2000, 0.7686, 0.0353, 0.0000, 0.0314, 0.0000, 0.0118,\n",
            "          0.0000, 0.0000, 0.7569, 0.6196, 0.0000, 0.0000, 0.0000, 0.0000,\n",
            "          0.0000, 0.0000, 0.0000, 0.0000],\n",
            "         [0.0000, 0.0000, 0.0000, 0.0000, 0.0000, 0.0000, 0.0235, 0.0431,\n",
            "          0.0000, 0.3725, 0.8078, 0.0000, 0.0000, 0.0000, 0.0000, 0.0000,\n",
            "          0.0000, 0.0000, 0.7176, 0.7098, 0.0000, 0.0000, 0.0000, 0.0000,\n",
            "          0.0000, 0.0314, 0.0000, 0.0000],\n",
            "         [0.0000, 0.0000, 0.0627, 0.7098, 0.4745, 0.6078, 0.5529, 0.6039,\n",
            "          0.6118, 0.6471, 0.7725, 0.3412, 0.2392, 0.2431, 0.2196, 0.3098,\n",
            "          0.4078, 0.3333, 0.7176, 0.7765, 0.4510, 0.4784, 0.5255, 0.5804,\n",
            "          0.6000, 0.5294, 0.3882, 0.0000],\n",
            "         [0.0000, 0.0000, 0.0941, 0.6863, 0.5725, 0.5020, 0.4745, 0.5176,\n",
            "          0.5882, 0.6078, 0.6510, 0.7647, 0.7608, 0.7569, 0.6863, 0.6706,\n",
            "          0.7451, 0.7686, 0.7020, 0.6824, 0.6863, 0.6549, 0.6275, 0.5529,\n",
            "          0.5569, 0.6039, 0.6588, 0.0000],\n",
            "         [0.0000, 0.0000, 0.2196, 0.6902, 0.6510, 0.5882, 0.5765, 0.5961,\n",
            "          0.6549, 0.5686, 0.4314, 0.6471, 0.6667, 0.7020, 0.7020, 0.7216,\n",
            "          0.7176, 0.7137, 0.6078, 0.4745, 0.6510, 0.6392, 0.6196, 0.6510,\n",
            "          0.6510, 0.7529, 0.2824, 0.0000],\n",
            "         [0.0000, 0.2745, 0.6039, 0.6824, 0.7255, 0.6471, 0.6667, 0.6745,\n",
            "          0.6863, 0.7059, 0.7020, 0.7137, 0.6588, 0.6588, 0.6627, 0.6706,\n",
            "          0.6627, 0.6471, 0.6745, 0.6941, 0.6863, 0.6824, 0.6824, 0.6431,\n",
            "          0.7020, 0.7569, 0.6157, 0.0000],\n",
            "         [0.0000, 0.5412, 0.1843, 0.6902, 0.7294, 0.7373, 0.7333, 0.7529,\n",
            "          0.7765, 0.7725, 0.7725, 0.7804, 0.7765, 0.7529, 0.7804, 0.7882,\n",
            "          0.7882, 0.7922, 0.7686, 0.7490, 0.7686, 0.7451, 0.7647, 0.6706,\n",
            "          0.7216, 0.8000, 0.7529, 0.0000],\n",
            "         [0.0000, 0.5882, 0.0510, 0.7451, 0.7608, 0.7373, 0.7020, 0.7255,\n",
            "          0.7255, 0.7686, 0.7412, 0.7373, 0.7373, 0.7020, 0.7098, 0.7373,\n",
            "          0.7373, 0.7333, 0.7059, 0.6824, 0.7137, 0.7020, 0.7608, 0.6941,\n",
            "          0.7412, 0.8706, 0.4667, 0.0000],\n",
            "         [0.0000, 0.5804, 0.0000, 0.7451, 0.7647, 0.7490, 0.6980, 0.6863,\n",
            "          0.7020, 0.7647, 0.7765, 0.7725, 0.7490, 0.7373, 0.7294, 0.7098,\n",
            "          0.6980, 0.6980, 0.6863, 0.6706, 0.6902, 0.6902, 0.6941, 0.6902,\n",
            "          0.7608, 0.8235, 0.4784, 0.0000],\n",
            "         [0.0000, 0.5765, 0.0000, 0.7490, 0.7373, 0.8196, 0.8314, 0.7765,\n",
            "          0.7373, 0.7255, 0.7647, 0.7490, 0.7412, 0.7294, 0.7137, 0.7255,\n",
            "          0.7137, 0.7059, 0.7059, 0.6784, 0.6863, 0.7020, 0.7647, 0.7882,\n",
            "          0.7725, 0.8549, 0.4745, 0.0000],\n",
            "         [0.0000, 0.6078, 0.0000, 0.6980, 0.7373, 0.8000, 0.7490, 0.7569,\n",
            "          0.8000, 0.7804, 0.7804, 0.7569, 0.7059, 0.6824, 0.6745, 0.6627,\n",
            "          0.6706, 0.6902, 0.7490, 0.8000, 0.8000, 0.7843, 0.7608, 0.7451,\n",
            "          0.7647, 0.9059, 0.3529, 0.0000],\n",
            "         [0.0000, 0.6431, 0.0000, 0.6431, 0.7608, 0.7882, 0.7059, 0.6980,\n",
            "          0.7176, 0.7098, 0.7412, 0.7922, 0.7804, 0.7373, 0.7294, 0.7529,\n",
            "          0.8039, 0.8431, 0.8353, 0.7843, 0.7255, 0.7294, 0.7333, 0.6980,\n",
            "          0.7961, 0.8745, 0.1059, 0.0000],\n",
            "         [0.0000, 0.6745, 0.0000, 0.6588, 0.7569, 0.7647, 0.7490, 0.7451,\n",
            "          0.7529, 0.7451, 0.7294, 0.7255, 0.7529, 0.7529, 0.7765, 0.7843,\n",
            "          0.7294, 0.6980, 0.7176, 0.7216, 0.7412, 0.7529, 0.7608, 0.7176,\n",
            "          0.8275, 0.8314, 0.0000, 0.0000],\n",
            "         [0.0000, 0.6745, 0.0000, 0.7020, 0.7961, 0.7608, 0.7333, 0.7412,\n",
            "          0.7451, 0.7373, 0.7373, 0.7412, 0.7451, 0.7412, 0.7333, 0.7059,\n",
            "          0.7020, 0.7255, 0.7490, 0.7529, 0.7608, 0.7686, 0.7569, 0.7373,\n",
            "          0.7686, 0.9255, 0.2549, 0.0000],\n",
            "         [0.0000, 0.6235, 0.0000, 0.6824, 0.8157, 0.7451, 0.7216, 0.7490,\n",
            "          0.7451, 0.7490, 0.7569, 0.7608, 0.7569, 0.7569, 0.7569, 0.7294,\n",
            "          0.7216, 0.7373, 0.7216, 0.7255, 0.7294, 0.7333, 0.7373, 0.6941,\n",
            "          0.7569, 0.8667, 0.6314, 0.0000],\n",
            "         [0.0000, 0.5608, 0.0000, 0.6431, 0.8314, 0.7529, 0.7294, 0.7647,\n",
            "          0.7608, 0.7647, 0.7804, 0.7804, 0.7686, 0.7647, 0.7804, 0.7765,\n",
            "          0.7490, 0.7412, 0.7490, 0.7412, 0.7373, 0.7294, 0.7333, 0.7098,\n",
            "          0.7686, 0.8275, 0.7725, 0.0000],\n",
            "         [0.0000, 0.4196, 0.2039, 0.4706, 0.8588, 0.7647, 0.7608, 0.7373,\n",
            "          0.7569, 0.7725, 0.7765, 0.7686, 0.7608, 0.7608, 0.7608, 0.7529,\n",
            "          0.7373, 0.7333, 0.7569, 0.7569, 0.7647, 0.7725, 0.7451, 0.7333,\n",
            "          0.7725, 0.8235, 0.6667, 0.0000],\n",
            "         [0.0000, 0.0000, 0.5922, 0.7529, 0.7451, 0.7686, 0.8078, 0.8078,\n",
            "          0.7529, 0.7412, 0.7490, 0.7490, 0.7451, 0.7412, 0.7451, 0.7412,\n",
            "          0.7373, 0.7412, 0.7412, 0.7412, 0.7451, 0.7451, 0.7529, 0.7569,\n",
            "          0.7765, 0.8118, 0.6980, 0.0000],\n",
            "         [0.0000, 0.0000, 0.5451, 0.8471, 0.7608, 0.8275, 0.8431, 0.8235,\n",
            "          0.8706, 1.0000, 0.8667, 0.8431, 0.8196, 0.8157, 0.8157, 0.8039,\n",
            "          0.7961, 0.7882, 0.7922, 0.7961, 0.8039, 0.8078, 0.8078, 0.8235,\n",
            "          0.8314, 0.8157, 0.6941, 0.0000],\n",
            "         [0.0000, 0.0000, 0.2039, 0.9294, 0.7333, 0.8000, 0.8196, 1.0000,\n",
            "          0.3765, 0.0902, 0.1843, 0.1569, 0.1569, 0.1176, 0.0941, 0.0941,\n",
            "          0.0902, 0.0863, 0.0824, 0.0980, 0.1216, 0.1373, 0.1412, 0.1294,\n",
            "          0.1098, 0.0863, 0.1137, 0.0000],\n",
            "         [0.0000, 0.0000, 0.0000, 0.2196, 0.2863, 0.4510, 0.4863, 0.4706,\n",
            "          0.0000, 0.0000, 0.0000, 0.0000, 0.0000, 0.0000, 0.0000, 0.0000,\n",
            "          0.0000, 0.0000, 0.0000, 0.0000, 0.0000, 0.0000, 0.0000, 0.0000,\n",
            "          0.0000, 0.0000, 0.0000, 0.0000]]])\n"
          ]
        },
        {
          "output_type": "display_data",
          "data": {
            "text/plain": [
              "<Figure size 640x480 with 1 Axes>"
            ],
            "image/png": "[encoded data removed]"
          },
          "metadata": {}
        }
      ]
    },
    {
      "cell_type": "code",
      "source": [
        "# build computer vision baseline model\n",
        "\n",
        "#create flatten layer\n",
        "\n",
        "flatten_model = nn.Flatten()\n",
        "\n",
        "x = train_features_batch[0]\n",
        "\n",
        "output = flatten_model(x).squeeze()\n",
        "x.shape, output.shape"
      ],
      "metadata": {
        "colab": {
          "base_uri": "https://localhost:8080/"
        },
        "id": "6NnR8baNHcN1",
        "outputId": "9911d771-403a-43c3-e4fd-24e3401dfb2d"
      },
      "execution_count": 15,
      "outputs": [
        {
          "output_type": "execute_result",
          "data": {
            "text/plain": [
              "(torch.Size([1, 28, 28]), torch.Size([784]))"
            ]
          },
          "metadata": {},
          "execution_count": 15
        }
      ]
    },
    {
      "cell_type": "code",
      "source": [
        "from torch import nn\n",
        "\n",
        "class FashionMNISTModelV0(nn.Module):\n",
        "  def __init__(self, input_shape: int,\n",
        "               hidden_units: int, \n",
        "               output_shape: int):\n",
        "    super().__init__()\n",
        "    self.layer_stack = nn.Sequential(\n",
        "        nn.Flatten(),\n",
        "        nn.Linear(in_features=input_shape, out_features=hidden_units),\n",
        "        nn.Linear(in_features=hidden_units, out_features=output_shape)\n",
        "    )\n",
        "\n",
        "  def forward(self, x):\n",
        "    return self.layer_stack(x)\n",
        "\n",
        "torch.manual_seed(42)\n",
        "model_0 = FashionMNISTModelV0(\n",
        "    input_shape=784,\n",
        "    hidden_units=10,\n",
        "    output_shape=len(class_names)\n",
        ").to(\"cpu\")\n",
        "\n",
        "model_0"
      ],
      "metadata": {
        "colab": {
          "base_uri": "https://localhost:8080/"
        },
        "id": "an--5_PkR_cS",
        "outputId": "f7c31643-c41c-4b24-9574-090cf8249e50"
      },
      "execution_count": 16,
      "outputs": [
        {
          "output_type": "execute_result",
          "data": {
            "text/plain": [
              "FashionMNISTModelV0(\n",
              "  (layer_stack): Sequential(\n",
              "    (0): Flatten(start_dim=1, end_dim=-1)\n",
              "    (1): Linear(in_features=784, out_features=10, bias=True)\n",
              "    (2): Linear(in_features=10, out_features=10, bias=True)\n",
              "  )\n",
              ")"
            ]
          },
          "metadata": {},
          "execution_count": 16
        }
      ]
    },
    {
      "cell_type": "code",
      "source": [
        "dummy_x = torch.rand([1, 1, 28, 28])\n",
        "model_0(dummy_x).shape"
      ],
      "metadata": {
        "colab": {
          "base_uri": "https://localhost:8080/"
        },
        "id": "2TmDJAhSVjjG",
        "outputId": "7e0204f4-5e1e-43a1-fed8-eebd242628ff"
      },
      "execution_count": 17,
      "outputs": [
        {
          "output_type": "execute_result",
          "data": {
            "text/plain": [
              "torch.Size([1, 10])"
            ]
          },
          "metadata": {},
          "execution_count": 17
        }
      ]
    },
    {
      "cell_type": "code",
      "source": [
        "loss_fn = nn.CrossEntropyLoss()\n",
        "\n",
        "optimizer = torch.optim.SGD(model_0.parameters(), lr=0.1)\n"
      ],
      "metadata": {
        "id": "y-4TvVfeVq9f"
      },
      "execution_count": 18,
      "outputs": []
    },
    {
      "cell_type": "code",
      "source": [
        "# import accuracy\n",
        "import requests\n",
        "from pathlib import Path\n",
        "\n",
        "if Path(\"helper_functions.py\").is_file():\n",
        "  print(\"already downloaded\")\n",
        "else:\n",
        "  print(\"downloading\")\n",
        "  request = requests.get(\"https://raw.githubusercontent.com/mrdbourke/pytorch-deep-learning/main/helper_functions.py\")\n",
        "  with open('helper_functions.py', 'wb') as f:\n",
        "    f.write(request.content)"
      ],
      "metadata": {
        "colab": {
          "base_uri": "https://localhost:8080/"
        },
        "id": "qaNjCCdw0E1M",
        "outputId": "45ea4a79-cbf4-46a1-8690-b74f472dbb46"
      },
      "execution_count": 19,
      "outputs": [
        {
          "output_type": "stream",
          "name": "stdout",
          "text": [
            "downloading\n"
          ]
        }
      ]
    },
    {
      "cell_type": "code",
      "source": [
        "from helper_functions import accuracy_fn"
      ],
      "metadata": {
        "id": "txIVmJqa0-NB"
      },
      "execution_count": 20,
      "outputs": []
    },
    {
      "cell_type": "code",
      "source": [
        "# function to time our functions\n",
        "\n",
        "from timeit import default_timer as timer\n",
        "\n",
        "def print_train_time(start, end, device=None):\n",
        "  total_time = end - start\n",
        "  print(f\"Train time on {device} is {total_time:.2f} seconds\")\n",
        "  return total_time\n"
      ],
      "metadata": {
        "id": "1w3oTmI91KjX"
      },
      "execution_count": 21,
      "outputs": []
    },
    {
      "cell_type": "code",
      "source": [
        "start_time = timer()\n",
        "# some code ...\n",
        "end_time = timer()\n",
        "print_train_time(start_time, end_time, device=\"cpu\")"
      ],
      "metadata": {
        "colab": {
          "base_uri": "https://localhost:8080/"
        },
        "id": "dpQ1mqR72qhI",
        "outputId": "0843f91d-d3b3-4988-8d4b-3615c2e8c12d"
      },
      "execution_count": 22,
      "outputs": [
        {
          "output_type": "stream",
          "name": "stdout",
          "text": [
            "Train time on cpu is 0.00 seconds\n"
          ]
        },
        {
          "output_type": "execute_result",
          "data": {
            "text/plain": [
              "5.9275000012348755e-05"
            ]
          },
          "metadata": {},
          "execution_count": 22
        }
      ]
    },
    {
      "cell_type": "code",
      "source": [
        "#progress bar\n",
        "from tqdm.auto import tqdm\n",
        "\n",
        "torch.manual_seed(42)\n",
        "\n",
        "train_time_start_on_cpu = timer()\n",
        "\n",
        "#start small -> make changes without wasting too much time\n",
        "epochs = 3\n",
        "\n",
        "for epoch in tqdm(range(epochs)):\n",
        "  print(f\"epoc: {epoch}\\n\")\n",
        "\n",
        "  train_loss = 0\n",
        "\n",
        "  #loop through training batch\n",
        "\n",
        "  for batch, (X, y) in enumerate(train_dataloader):\n",
        "    model_0.train()\n",
        "\n",
        "    # X is only 32 now\n",
        "    y_pred = model_0(X)\n",
        "\n",
        "    loss = loss_fn(y_pred, y)\n",
        "    train_loss += loss\n",
        "  \n",
        "    optimizer.zero_grad()\n",
        "    loss.backward()\n",
        "\n",
        "    optimizer.step()\n",
        "  \n",
        "    if batch % 400 == 0:\n",
        "      print(f\"Looked at {batch * len(X)} / {len(train_dataloader.dataset)} samples\")\n",
        "    \n",
        "  train_loss /= len(train_dataloader)\n",
        "\n",
        "  # test loop\n",
        "\n",
        "  test_loss = 0\n",
        "  test_acc = 0\n",
        "\n",
        "  model_0.eval()\n",
        "  with torch.inference_mode():\n",
        "    for X_test, y_test in test_dataloader:\n",
        "      #foward pass\n",
        "      test_pred = model_0(X_test)\n",
        "      # calculate loss\n",
        "      test_loss += loss_fn(test_pred, y_test)\n",
        "\n",
        "      # calc accuracy\n",
        "      test_acc += accuracy_fn(y_test, test_pred.argmax(dim=1))\n",
        "    \n",
        "    test_loss /= len(test_dataloader)\n",
        "    test_acc /= len(test_dataloader)\n",
        "\n",
        "  print(f\"\\nTrain loss: {train_loss:.4f}, testLoss: {test_loss:.4f}, testAcc: {test_acc:.4f}\")\n",
        "\n",
        "train_time_end_on_cpu = timer()\n",
        "\n",
        "total_train_time_model_0 = print_train_time(train_time_start_on_cpu, \n",
        "                                            train_time_end_on_cpu,\n",
        "                                            str(next(model_0.parameters()).device))\n"
      ],
      "metadata": {
        "colab": {
          "base_uri": "https://localhost:8080/",
          "height": 549,
          "referenced_widgets": [
            "92b1c880447a45d89091120d39a913bb",
            "eadd10d9a65a49e0bba1ee2a8f41d5cf",
            "2c51592ec6f24e4ca489ff2c6e0c76d7",
            "4bb4b6bc3ee8452a808aefc04368dbc8",
            "1274e11a32724e77804805036519e3c8",
            "d809860f79904b50a1d3647fa91c9c23",
            "0a5b4fb70f674017aa3c0b5e637dbd8a",
            "3059a8713e5e46068d9e266e4e035857",
            "e817bd440eb34509b4dd1b31949501d1",
            "67351bfa821d48a99ebde9c09709abd0",
            "f53dec1aa75148ba882bf63f5ba7f589"
          ]
        },
        "id": "5Q2-EsuX2ybw",
        "outputId": "d59081a4-69f7-485a-8091-bb88a036d82f"
      },
      "execution_count": 23,
      "outputs": [
        {
          "output_type": "display_data",
          "data": {
            "text/plain": [
              "  0%|          | 0/3 [00:00<?, ?it/s]"
            ],
            "application/vnd.jupyter.widget-view+json": {
              "version_major": 2,
              "version_minor": 0,
              "model_id": "92b1c880447a45d89091120d39a913bb"
            }
          },
          "metadata": {}
        },
        {
          "output_type": "stream",
          "name": "stdout",
          "text": [
            "epoc: 0\n",
            "\n",
            "Looked at 0 / 60000 samples\n",
            "Looked at 12800 / 60000 samples\n",
            "Looked at 25600 / 60000 samples\n",
            "Looked at 38400 / 60000 samples\n",
            "Looked at 51200 / 60000 samples\n",
            "\n",
            "Train loss: 0.5904, testLoss: 0.5095, testAcc: 82.0387\n",
            "epoc: 1\n",
            "\n",
            "Looked at 0 / 60000 samples\n",
            "Looked at 12800 / 60000 samples\n",
            "Looked at 25600 / 60000 samples\n",
            "Looked at 38400 / 60000 samples\n",
            "Looked at 51200 / 60000 samples\n",
            "\n",
            "Train loss: 0.4763, testLoss: 0.4799, testAcc: 83.1969\n",
            "epoc: 2\n",
            "\n",
            "Looked at 0 / 60000 samples\n",
            "Looked at 12800 / 60000 samples\n",
            "Looked at 25600 / 60000 samples\n",
            "Looked at 38400 / 60000 samples\n",
            "Looked at 51200 / 60000 samples\n",
            "\n",
            "Train loss: 0.4550, testLoss: 0.4766, testAcc: 83.4265\n",
            "Train time on cpu is 42.80 seconds\n"
          ]
        }
      ]
    },
    {
      "cell_type": "code",
      "source": [
        "# eval model\n",
        "def eval_model(model,\n",
        "               data_loader, \n",
        "               loss_fn, \n",
        "               acc_fn, device):\n",
        "  # return dict containing results of model predicting on data loader\n",
        "\n",
        "  loss, acc = 0, 0\n",
        "  model.eval()\n",
        "  with torch.inference_mode():\n",
        "    for X, y in data_loader:\n",
        "      X = X.to(device)\n",
        "      y = y.to(device)\n",
        "\n",
        "      y_pred = model(X)\n",
        "      \n",
        "      loss += loss_fn(y_pred, y)\n",
        "      acc += acc_fn(y, torch.argmax(y_pred, dim=1))\n",
        "\n",
        "    loss /= len(data_loader)\n",
        "    acc /= len(data_loader)\n",
        "\n",
        "  return {\n",
        "      \"model\": model.__class__.__name__,\n",
        "      \"loss\": loss.item(),\n",
        "      \"acc\": acc\n",
        "  }\n",
        "\n",
        "# model_0_results = eval_model(model_0,\n",
        "#                     test_dataloader,\n",
        "#                     loss_fn,\n",
        "#                     accuracy_fn)\n",
        "\n",
        "# model_0_results"
      ],
      "metadata": {
        "id": "94bW-R3VBaGk"
      },
      "execution_count": 24,
      "outputs": []
    },
    {
      "cell_type": "code",
      "source": [
        "# device agnostic code\n",
        "\n",
        "device = \"cuda\" if torch.cuda.is_available() else \"cpu\"\n",
        "device"
      ],
      "metadata": {
        "colab": {
          "base_uri": "https://localhost:8080/",
          "height": 35
        },
        "id": "xFtv-W96JkSU",
        "outputId": "7096dcb6-5d47-486d-8751-d00cde35f153"
      },
      "execution_count": 25,
      "outputs": [
        {
          "output_type": "execute_result",
          "data": {
            "text/plain": [
              "'cpu'"
            ],
            "application/vnd.google.colaboratory.intrinsic+json": {
              "type": "string"
            }
          },
          "metadata": {},
          "execution_count": 25
        }
      ]
    },
    {
      "cell_type": "code",
      "source": [
        "class FashionMNISTModelV1(nn.Module):\n",
        "  def __init__(self, in_features, hidden_units, out_features):\n",
        "    super().__init__()\n",
        "    self.layer_stack = nn.Sequential(\n",
        "        nn.Flatten(),\n",
        "        nn.Linear(in_features, hidden_units),\n",
        "        nn.ReLU(),\n",
        "        nn.Linear(hidden_units, hidden_units),\n",
        "        nn.ReLU(),\n",
        "        nn.Linear(hidden_units, out_features)\n",
        "    )\n",
        "\n",
        "  def forward(self, x):\n",
        "    return self.layer_stack(x)\n",
        "\n",
        "model_1 = FashionMNISTModelV1(784, 10, len(class_names)).to(device)"
      ],
      "metadata": {
        "id": "HbfIqX-oKMEO"
      },
      "execution_count": 26,
      "outputs": []
    },
    {
      "cell_type": "code",
      "source": [
        "loss_fn_1 = nn.CrossEntropyLoss()\n",
        "optimizer_1 = torch.optim.SGD(model_1.parameters(), lr=0.1)"
      ],
      "metadata": {
        "id": "Ozd4nb1BUHfB"
      },
      "execution_count": 27,
      "outputs": []
    },
    {
      "cell_type": "code",
      "source": [
        "def train_step(model, dataloader, loss_fn, acc_fn, optimizer, device):\n",
        "    model.train()\n",
        "    loss = 0\n",
        "    train_loss, train_acc = 0, 0\n",
        "\n",
        "    for batch, (X, y) in enumerate(dataloader):\n",
        "\n",
        "      X = X.to(device)\n",
        "      y = y.to(device)\n",
        "\n",
        "      y_pred = model(X)\n",
        "\n",
        "      loss = loss_fn(y_pred, y)\n",
        "      train_loss += loss\n",
        "      train_acc += acc_fn(y, torch.argmax(y_pred, dim=1))\n",
        "\n",
        "      optimizer.zero_grad()\n",
        "      loss.backward()\n",
        "      optimizer.step()\n",
        "\n",
        "      if batch % 400 == 0:\n",
        "        print(f\"Looked at {batch * len(X)} / {len(dataloader.dataset)} samples\")\n",
        "\n",
        "    train_loss /= len(dataloader)\n",
        "    train_acc /= len(dataloader)\n",
        "\n",
        "    print(f\"loss: {train_loss:.5f}, acc: {train_acc:.2f}\")"
      ],
      "metadata": {
        "id": "1obwACDJLeRQ"
      },
      "execution_count": 28,
      "outputs": []
    },
    {
      "cell_type": "code",
      "source": [
        "def test_step(model, dataloader, loss_fn, acc_fn, device):\n",
        "  model.eval()\n",
        "  with torch.inference_mode():\n",
        "    loss, acc = 0, 0\n",
        "    for batch, (X, y) in enumerate(dataloader):\n",
        "      X = X.to(device)\n",
        "      y = y.to(device)\n",
        "\n",
        "      y_pred_test = model(X)\n",
        "\n",
        "      loss += loss_fn(y_pred_test, y)\n",
        "      acc += acc_fn(y, torch.argmax(y_pred_test, dim=1))\n",
        "\n",
        "    loss /= len(dataloader)\n",
        "    acc /= len(dataloader)\n",
        "\n",
        "    print(f\"testLoss: {loss:.4f}, testAcc: {acc:.2f}\")\n",
        "\n"
      ],
      "metadata": {
        "id": "3V68dC5SYxP9"
      },
      "execution_count": 29,
      "outputs": []
    },
    {
      "cell_type": "code",
      "source": [
        "torch.manual_seed(42)\n",
        "from timeit import default_timer as timer\n",
        "\n",
        "start_time_gpu = timer()\n",
        "epochs = 3\n",
        "for epoch in tqdm(range(epochs)):\n",
        "  train_step(model_1, train_dataloader, loss_fn_1, accuracy_fn, optimizer_1, device)\n",
        "  test_step(model_1, test_dataloader, loss_fn_1, accuracy_fn, device)\n",
        "\n",
        "end_time_gpu = timer()\n",
        "total_time = end_time_gpu - start_time_gpu\n",
        "print(f\"total time: {total_time:.2f} seconds\")"
      ],
      "metadata": {
        "colab": {
          "base_uri": "https://localhost:8080/",
          "height": 442,
          "referenced_widgets": [
            "ad8f1b69aaf54fa7b0919a0f43751d68",
            "4c2cf9eeee264d4289238f7898b233df",
            "a6f28fb8a9d84186ab09d16a7c29811b",
            "710a93bc75074ce6ba176fece18f7ed4",
            "4060753f98ad496ba71df3c7631e0b45",
            "7db7a6c0865842f0881445ecbda94113",
            "8387b8c64c154373a93eb8590f3a9c71",
            "c8d14b1b1fd34613ada5d0fa421afdad",
            "f8ad3d0d902440c8bcf5ba1b17325538",
            "3fbc76a6522f4f05836a3e7f2146999d",
            "4cccab97126d484bac1a3072869e4e95"
          ]
        },
        "id": "zaW4DImKVSoG",
        "outputId": "e208204e-00b2-432c-d509-3bf4594f4ee6"
      },
      "execution_count": 30,
      "outputs": [
        {
          "output_type": "display_data",
          "data": {
            "text/plain": [
              "  0%|          | 0/3 [00:00<?, ?it/s]"
            ],
            "application/vnd.jupyter.widget-view+json": {
              "version_major": 2,
              "version_minor": 0,
              "model_id": "ad8f1b69aaf54fa7b0919a0f43751d68"
            }
          },
          "metadata": {}
        },
        {
          "output_type": "stream",
          "name": "stdout",
          "text": [
            "Looked at 0 / 60000 samples\n",
            "Looked at 12800 / 60000 samples\n",
            "Looked at 25600 / 60000 samples\n",
            "Looked at 38400 / 60000 samples\n",
            "Looked at 51200 / 60000 samples\n",
            "loss: 0.69231, acc: 75.02\n",
            "testLoss: 0.5402, testAcc: 80.63\n",
            "Looked at 0 / 60000 samples\n",
            "Looked at 12800 / 60000 samples\n",
            "Looked at 25600 / 60000 samples\n",
            "Looked at 38400 / 60000 samples\n",
            "Looked at 51200 / 60000 samples\n",
            "loss: 0.50481, acc: 81.86\n",
            "testLoss: 0.5172, testAcc: 81.85\n",
            "Looked at 0 / 60000 samples\n",
            "Looked at 12800 / 60000 samples\n",
            "Looked at 25600 / 60000 samples\n",
            "Looked at 38400 / 60000 samples\n",
            "Looked at 51200 / 60000 samples\n",
            "loss: 0.46528, acc: 83.25\n",
            "testLoss: 0.4661, testAcc: 83.23\n",
            "total time: 44.13 seconds\n"
          ]
        }
      ]
    },
    {
      "cell_type": "code",
      "source": [
        "model_1_results = eval_model(model_1,\n",
        "                    test_dataloader,\n",
        "                    loss_fn_1,\n",
        "                    accuracy_fn, device)\n",
        "\n",
        "model_1_results"
      ],
      "metadata": {
        "colab": {
          "base_uri": "https://localhost:8080/"
        },
        "id": "CzWW4Y2_Tmw9",
        "outputId": "b480ab69-27b8-45fb-d006-1b922bfc0f47"
      },
      "execution_count": 31,
      "outputs": [
        {
          "output_type": "execute_result",
          "data": {
            "text/plain": [
              "{'model': 'FashionMNISTModelV1',\n",
              " 'loss': 0.46614977717399597,\n",
              " 'acc': 83.22683706070288}"
            ]
          },
          "metadata": {},
          "execution_count": 31
        }
      ]
    },
    {
      "cell_type": "code",
      "source": [
        "class FashionMNISTModel_2(nn.Module):\n",
        "  def __init__(self, in_shape, hidden_units, out_shape):\n",
        "    super().__init__()\n",
        "    self.conv_block1 = nn.Sequential(\n",
        "        nn.Conv2d(\n",
        "            in_channels=in_shape,\n",
        "            out_channels=hidden_units,\n",
        "            kernel=3,\n",
        "            stride=1,\n",
        "            padding=1\n",
        "        ),\n",
        "        nn.ReLU(),\n",
        "        nn.Conv2d(in_channels=hidden_units,\n",
        "            out_channels=hidden_units,\n",
        "            kernel=3,\n",
        "            stride=1,\n",
        "            padding=1),\n",
        "        nn.ReLU(),\n",
        "        nn.MaxPool2d(kernel_size=2)\n",
        "    )\n",
        "    self.conv_block2 = nn.Sequential(\n",
        "        nn.Conv2d(\n",
        "            in_channels=hidden_units,\n",
        "            out_channels=hidden_units,\n",
        "            kernel_size=3,\n",
        "            stride=1,\n",
        "            padding=1\n",
        "        ),\n",
        "        nn.ReLU(),\n",
        "        nn.Conv2d(in_channels=hidden_units,\n",
        "            out_channels=hidden_units,\n",
        "            kernel_size=3,\n",
        "            stride=1,\n",
        "            padding=1),\n",
        "        nn.ReLU(),\n",
        "        nn.MaxPool2d(kernel_size=2)\n",
        "    )\n",
        "    self.classifier_block = nn.Sequential(\n",
        "        nn.Flatten(),\n",
        "        nn.Linear(in_features=hidden_units,\n",
        "                  out_features=out_shape)\n",
        "    )\n",
        "  \n",
        "  def forward(self, x):\n",
        "    x = self.conv_block1(x)\n",
        "    print(x.shape)\n",
        "    x = self.conv_block2(x)\n",
        "    print(x.shape)\n",
        "    x = self.classifier_block(x)\n",
        "    return x"
      ],
      "metadata": {
        "id": "-oLRZdCqgTiX"
      },
      "execution_count": 32,
      "outputs": []
    },
    {
      "cell_type": "code",
      "source": [
        "cnn_layer = nn.Conv2d(\n",
        "    in_channels=3,\n",
        "    out_channels=10,\n",
        "    kernel_size=3,\n",
        "    stride=1,\n",
        "    padding=1\n",
        ")\n",
        "\n",
        "fake_image = torch.rand(3, 64, 64)\n",
        "fake_image.shape"
      ],
      "metadata": {
        "colab": {
          "base_uri": "https://localhost:8080/"
        },
        "id": "EyQoFVae4sZV",
        "outputId": "f0e0319c-afbc-4442-f9ce-1f279c0598c9"
      },
      "execution_count": 68,
      "outputs": [
        {
          "output_type": "execute_result",
          "data": {
            "text/plain": [
              "torch.Size([3, 64, 64])"
            ]
          },
          "metadata": {},
          "execution_count": 68
        }
      ]
    },
    {
      "cell_type": "code",
      "source": [
        "fake_image_out = cnn_layer(fake_image)\n",
        "fake_image_out.shape\n",
        "\n",
        "# input - kernel_size + 1 -> gives output\n",
        "# input size / stride = output size\n",
        "# input + 2(padding) -> gives output"
      ],
      "metadata": {
        "colab": {
          "base_uri": "https://localhost:8080/"
        },
        "id": "bZ8EvG9gCRoo",
        "outputId": "21e32cad-2f46-4bb3-e0be-f33db39a734e"
      },
      "execution_count": 69,
      "outputs": [
        {
          "output_type": "execute_result",
          "data": {
            "text/plain": [
              "torch.Size([10, 64, 64])"
            ]
          },
          "metadata": {},
          "execution_count": 69
        }
      ]
    },
    {
      "cell_type": "code",
      "source": [],
      "metadata": {
        "id": "nmrey5cYCprQ"
      },
      "execution_count": null,
      "outputs": []
    }
  ]
}